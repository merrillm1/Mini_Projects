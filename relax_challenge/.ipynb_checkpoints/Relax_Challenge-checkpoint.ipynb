{
 "cells": [
  {
   "cell_type": "markdown",
   "metadata": {},
   "source": [
    "# Relax inc. Take home challenge"
   ]
  },
  {
   "cell_type": "code",
   "execution_count": 1,
   "metadata": {},
   "outputs": [],
   "source": [
    "# import necessary modules\n",
    "import pandas as pd\n",
    "import numpy as np\n",
    "import matplotlib.pyplot as plt\n",
    "import seaborn as sns\n",
    "sns.set()"
   ]
  },
  {
   "cell_type": "code",
   "execution_count": 2,
   "metadata": {},
   "outputs": [],
   "source": [
    "users = pd.read_csv('data/takehome_users.csv', encoding='iso-8859-1')\n",
    "engagement = pd.read_csv('data/takehome_user_engagement.csv')"
   ]
  },
  {
   "cell_type": "code",
   "execution_count": 3,
   "metadata": {},
   "outputs": [
    {
     "data": {
      "text/html": [
       "<div>\n",
       "<style scoped>\n",
       "    .dataframe tbody tr th:only-of-type {\n",
       "        vertical-align: middle;\n",
       "    }\n",
       "\n",
       "    .dataframe tbody tr th {\n",
       "        vertical-align: top;\n",
       "    }\n",
       "\n",
       "    .dataframe thead th {\n",
       "        text-align: right;\n",
       "    }\n",
       "</style>\n",
       "<table border=\"1\" class=\"dataframe\">\n",
       "  <thead>\n",
       "    <tr style=\"text-align: right;\">\n",
       "      <th></th>\n",
       "      <th>object_id</th>\n",
       "      <th>creation_time</th>\n",
       "      <th>name</th>\n",
       "      <th>email</th>\n",
       "      <th>creation_source</th>\n",
       "      <th>last_session_creation_time</th>\n",
       "      <th>opted_in_to_mailing_list</th>\n",
       "      <th>enabled_for_marketing_drip</th>\n",
       "      <th>org_id</th>\n",
       "      <th>invited_by_user_id</th>\n",
       "    </tr>\n",
       "  </thead>\n",
       "  <tbody>\n",
       "    <tr>\n",
       "      <td>0</td>\n",
       "      <td>1</td>\n",
       "      <td>2014-04-22 03:53:30</td>\n",
       "      <td>Clausen August</td>\n",
       "      <td>AugustCClausen@yahoo.com</td>\n",
       "      <td>GUEST_INVITE</td>\n",
       "      <td>1.398139e+09</td>\n",
       "      <td>1</td>\n",
       "      <td>0</td>\n",
       "      <td>11</td>\n",
       "      <td>10803.0</td>\n",
       "    </tr>\n",
       "    <tr>\n",
       "      <td>1</td>\n",
       "      <td>2</td>\n",
       "      <td>2013-11-15 03:45:04</td>\n",
       "      <td>Poole Matthew</td>\n",
       "      <td>MatthewPoole@gustr.com</td>\n",
       "      <td>ORG_INVITE</td>\n",
       "      <td>1.396238e+09</td>\n",
       "      <td>0</td>\n",
       "      <td>0</td>\n",
       "      <td>1</td>\n",
       "      <td>316.0</td>\n",
       "    </tr>\n",
       "    <tr>\n",
       "      <td>2</td>\n",
       "      <td>3</td>\n",
       "      <td>2013-03-19 23:14:52</td>\n",
       "      <td>Bottrill Mitchell</td>\n",
       "      <td>MitchellBottrill@gustr.com</td>\n",
       "      <td>ORG_INVITE</td>\n",
       "      <td>1.363735e+09</td>\n",
       "      <td>0</td>\n",
       "      <td>0</td>\n",
       "      <td>94</td>\n",
       "      <td>1525.0</td>\n",
       "    </tr>\n",
       "    <tr>\n",
       "      <td>3</td>\n",
       "      <td>4</td>\n",
       "      <td>2013-05-21 08:09:28</td>\n",
       "      <td>Clausen Nicklas</td>\n",
       "      <td>NicklasSClausen@yahoo.com</td>\n",
       "      <td>GUEST_INVITE</td>\n",
       "      <td>1.369210e+09</td>\n",
       "      <td>0</td>\n",
       "      <td>0</td>\n",
       "      <td>1</td>\n",
       "      <td>5151.0</td>\n",
       "    </tr>\n",
       "    <tr>\n",
       "      <td>4</td>\n",
       "      <td>5</td>\n",
       "      <td>2013-01-17 10:14:20</td>\n",
       "      <td>Raw Grace</td>\n",
       "      <td>GraceRaw@yahoo.com</td>\n",
       "      <td>GUEST_INVITE</td>\n",
       "      <td>1.358850e+09</td>\n",
       "      <td>0</td>\n",
       "      <td>0</td>\n",
       "      <td>193</td>\n",
       "      <td>5240.0</td>\n",
       "    </tr>\n",
       "  </tbody>\n",
       "</table>\n",
       "</div>"
      ],
      "text/plain": [
       "   object_id        creation_time               name  \\\n",
       "0          1  2014-04-22 03:53:30     Clausen August   \n",
       "1          2  2013-11-15 03:45:04      Poole Matthew   \n",
       "2          3  2013-03-19 23:14:52  Bottrill Mitchell   \n",
       "3          4  2013-05-21 08:09:28    Clausen Nicklas   \n",
       "4          5  2013-01-17 10:14:20          Raw Grace   \n",
       "\n",
       "                        email creation_source  last_session_creation_time  \\\n",
       "0    AugustCClausen@yahoo.com    GUEST_INVITE                1.398139e+09   \n",
       "1      MatthewPoole@gustr.com      ORG_INVITE                1.396238e+09   \n",
       "2  MitchellBottrill@gustr.com      ORG_INVITE                1.363735e+09   \n",
       "3   NicklasSClausen@yahoo.com    GUEST_INVITE                1.369210e+09   \n",
       "4          GraceRaw@yahoo.com    GUEST_INVITE                1.358850e+09   \n",
       "\n",
       "   opted_in_to_mailing_list  enabled_for_marketing_drip  org_id  \\\n",
       "0                         1                           0      11   \n",
       "1                         0                           0       1   \n",
       "2                         0                           0      94   \n",
       "3                         0                           0       1   \n",
       "4                         0                           0     193   \n",
       "\n",
       "   invited_by_user_id  \n",
       "0             10803.0  \n",
       "1               316.0  \n",
       "2              1525.0  \n",
       "3              5151.0  \n",
       "4              5240.0  "
      ]
     },
     "execution_count": 3,
     "metadata": {},
     "output_type": "execute_result"
    }
   ],
   "source": [
    "users.head()"
   ]
  },
  {
   "cell_type": "code",
   "execution_count": 4,
   "metadata": {
    "scrolled": false
   },
   "outputs": [
    {
     "name": "stdout",
     "output_type": "stream",
     "text": [
      "<class 'pandas.core.frame.DataFrame'>\n",
      "RangeIndex: 12000 entries, 0 to 11999\n",
      "Data columns (total 10 columns):\n",
      "object_id                     12000 non-null int64\n",
      "creation_time                 12000 non-null object\n",
      "name                          12000 non-null object\n",
      "email                         12000 non-null object\n",
      "creation_source               12000 non-null object\n",
      "last_session_creation_time    8823 non-null float64\n",
      "opted_in_to_mailing_list      12000 non-null int64\n",
      "enabled_for_marketing_drip    12000 non-null int64\n",
      "org_id                        12000 non-null int64\n",
      "invited_by_user_id            6417 non-null float64\n",
      "dtypes: float64(2), int64(4), object(4)\n",
      "memory usage: 937.6+ KB\n"
     ]
    }
   ],
   "source": [
    "users.info()"
   ]
  },
  {
   "cell_type": "code",
   "execution_count": 5,
   "metadata": {},
   "outputs": [
    {
     "data": {
      "text/html": [
       "<div>\n",
       "<style scoped>\n",
       "    .dataframe tbody tr th:only-of-type {\n",
       "        vertical-align: middle;\n",
       "    }\n",
       "\n",
       "    .dataframe tbody tr th {\n",
       "        vertical-align: top;\n",
       "    }\n",
       "\n",
       "    .dataframe thead th {\n",
       "        text-align: right;\n",
       "    }\n",
       "</style>\n",
       "<table border=\"1\" class=\"dataframe\">\n",
       "  <thead>\n",
       "    <tr style=\"text-align: right;\">\n",
       "      <th></th>\n",
       "      <th>time_stamp</th>\n",
       "      <th>user_id</th>\n",
       "      <th>visited</th>\n",
       "    </tr>\n",
       "  </thead>\n",
       "  <tbody>\n",
       "    <tr>\n",
       "      <td>0</td>\n",
       "      <td>2014-04-22 03:53:30</td>\n",
       "      <td>1</td>\n",
       "      <td>1</td>\n",
       "    </tr>\n",
       "    <tr>\n",
       "      <td>1</td>\n",
       "      <td>2013-11-15 03:45:04</td>\n",
       "      <td>2</td>\n",
       "      <td>1</td>\n",
       "    </tr>\n",
       "    <tr>\n",
       "      <td>2</td>\n",
       "      <td>2013-11-29 03:45:04</td>\n",
       "      <td>2</td>\n",
       "      <td>1</td>\n",
       "    </tr>\n",
       "    <tr>\n",
       "      <td>3</td>\n",
       "      <td>2013-12-09 03:45:04</td>\n",
       "      <td>2</td>\n",
       "      <td>1</td>\n",
       "    </tr>\n",
       "    <tr>\n",
       "      <td>4</td>\n",
       "      <td>2013-12-25 03:45:04</td>\n",
       "      <td>2</td>\n",
       "      <td>1</td>\n",
       "    </tr>\n",
       "  </tbody>\n",
       "</table>\n",
       "</div>"
      ],
      "text/plain": [
       "            time_stamp  user_id  visited\n",
       "0  2014-04-22 03:53:30        1        1\n",
       "1  2013-11-15 03:45:04        2        1\n",
       "2  2013-11-29 03:45:04        2        1\n",
       "3  2013-12-09 03:45:04        2        1\n",
       "4  2013-12-25 03:45:04        2        1"
      ]
     },
     "execution_count": 5,
     "metadata": {},
     "output_type": "execute_result"
    }
   ],
   "source": [
    "engagement.head()"
   ]
  },
  {
   "cell_type": "code",
   "execution_count": 6,
   "metadata": {
    "scrolled": true
   },
   "outputs": [
    {
     "name": "stdout",
     "output_type": "stream",
     "text": [
      "<class 'pandas.core.frame.DataFrame'>\n",
      "RangeIndex: 207917 entries, 0 to 207916\n",
      "Data columns (total 3 columns):\n",
      "time_stamp    207917 non-null object\n",
      "user_id       207917 non-null int64\n",
      "visited       207917 non-null int64\n",
      "dtypes: int64(2), object(1)\n",
      "memory usage: 4.8+ MB\n"
     ]
    }
   ],
   "source": [
    "engagement.info()"
   ]
  },
  {
   "cell_type": "markdown",
   "metadata": {},
   "source": [
    "## Data Cleaning"
   ]
  },
  {
   "cell_type": "markdown",
   "metadata": {},
   "source": [
    "Steps:\n",
    "- change NaN to 0 for 'invited_by_user_id'\n",
    "- set object_id to user_id for possible merge later on\n",
    "- add an 'adopted_user' column\n",
    "    - defined as any user who has logged in on 3 seperate days in a 7 day period.\n",
    "- convert 'creation_time' to datetime in users\n",
    "- convert 'time_stamp' to datetime in engagement"
   ]
  },
  {
   "cell_type": "code",
   "execution_count": 7,
   "metadata": {},
   "outputs": [],
   "source": [
    "# Convert datetime columns to datetime format\n",
    "engagement['time_stamp'] = pd.to_datetime(engagement['time_stamp'])\n",
    "users['creation_time'] = pd.to_datetime(users['creation_time'])\n",
    "\n",
    "# universal time conversion\n",
    "users['last_session_creation_time'] = pd.to_datetime(users['last_session_creation_time'], unit = 's')"
   ]
  },
  {
   "cell_type": "code",
   "execution_count": 8,
   "metadata": {},
   "outputs": [],
   "source": [
    "# replace missing phone entries with the most frequent type\n",
    "users['invited_by_user_id'] = users['invited_by_user_id'].fillna(0)"
   ]
  },
  {
   "cell_type": "code",
   "execution_count": 9,
   "metadata": {},
   "outputs": [],
   "source": [
    "# Equate user_id columns for dataframes \n",
    "users['user_id'] = users['object_id']\n",
    "users = users.drop('object_id', axis=1)"
   ]
  },
  {
   "cell_type": "markdown",
   "metadata": {},
   "source": [
    "### Create 'is_adopted' column"
   ]
  },
  {
   "cell_type": "code",
   "execution_count": null,
   "metadata": {},
   "outputs": [],
   "source": [
    "from datetime import datetime, timedelta\n",
    "\n",
    "def check_for_user_activity(df, user_col, time_col, class_col, time_period = 7):\n",
    "    # loop through each user\n",
    "    user_ids = list(df[user_col].unique())\n",
    "    \n",
    "    # Set time_stamp as index for engagement\n",
    "    df = df.set_index(time_col).sort_index()\n",
    "\n",
    "    # This just squeezes out the day from each timestamp for grouping in the next line\n",
    "    dates = pd.Series(df.index.get_level_values(time_col).date, name=time_col, index=df.index)\n",
    "\n",
    "    # Group by the dates extracted above and by user_id\n",
    "    df_temp = df.groupby([dates, user_col]).sum().sort_index()\n",
    "    \n",
    "    # Reset the index to re-create time_stamp column\n",
    "    daily_visitors = df_temp.reset_index()\n",
    "    \n",
    "    # create dataframe to catch results\n",
    "    adopted_users = pd.DataFrame(columns = [user_col, class_col])\n",
    "\n",
    "    for user in user_ids:\n",
    "        visits = daily_visitors[daily_visitors.user_id == user]  # filter for each user\n",
    "        for i in range(len(visits)):       \n",
    "\n",
    "            if i+3 <= len(visits): # if the user has logged in at least 3 days, check to see if it's within a week\n",
    "\n",
    "                if i+3 == len(visits): # if the length is equal to 3 days, finalize loop here\n",
    "\n",
    "                    if ((visits[time_col].values[i+2] - visits[time_col].values[i]) <= timedelta(days=time_period)):\n",
    "\n",
    "                        adopted_users = adopted_users.append({user_col: user, class_col: 1}, ignore_index=True)\n",
    "                        break\n",
    "\n",
    "                    else:\n",
    "                        adopted_users = adopted_users.append({user_col: user, class_col: 0}, ignore_index=True)\n",
    "                        break\n",
    "\n",
    "                elif i+3 < len(visits): # if the length is more than 3 days, loop through unless labaled adopted\n",
    "\n",
    "                    if ((visits[time_col].values[i+2] - visits[time_col].values[i]) <= timedelta(days=time_period)):\n",
    "                        adopted_users = adopted_users.append({user_col: user, class_col: 1}, ignore_index=True)\n",
    "                        break\n",
    "\n",
    "                    else:\n",
    "                        continue\n",
    "\n",
    "            elif i+3 > len(visits): # if the number of visits is less than three days, mark as not adopted\n",
    "\n",
    "                adopted_users = adopted_users.append({user_col: user, class_col: 0}, ignore_index=True)\n",
    "                break\n",
    "    \n",
    "    return adopted_users"
   ]
  },
  {
   "cell_type": "code",
   "execution_count": 10,
   "metadata": {
    "scrolled": true
   },
   "outputs": [],
   "source": [
    "adopted_users = check_for_user_activity(engagement, 'user_id', 'time_stamp', 'is_adopted', time_period = 7)"
   ]
  },
  {
   "cell_type": "code",
   "execution_count": 114,
   "metadata": {},
   "outputs": [
    {
     "data": {
      "text/html": [
       "<div>\n",
       "<style scoped>\n",
       "    .dataframe tbody tr th:only-of-type {\n",
       "        vertical-align: middle;\n",
       "    }\n",
       "\n",
       "    .dataframe tbody tr th {\n",
       "        vertical-align: top;\n",
       "    }\n",
       "\n",
       "    .dataframe thead th {\n",
       "        text-align: right;\n",
       "    }\n",
       "</style>\n",
       "<table border=\"1\" class=\"dataframe\">\n",
       "  <thead>\n",
       "    <tr style=\"text-align: right;\">\n",
       "      <th></th>\n",
       "      <th>time_stamp</th>\n",
       "      <th>user_id</th>\n",
       "      <th>visited</th>\n",
       "    </tr>\n",
       "  </thead>\n",
       "  <tbody>\n",
       "    <tr>\n",
       "      <td>0</td>\n",
       "      <td>2012-05-31</td>\n",
       "      <td>1693</td>\n",
       "      <td>1</td>\n",
       "    </tr>\n",
       "    <tr>\n",
       "      <td>1</td>\n",
       "      <td>2012-05-31</td>\n",
       "      <td>3428</td>\n",
       "      <td>1</td>\n",
       "    </tr>\n",
       "    <tr>\n",
       "      <td>2</td>\n",
       "      <td>2012-05-31</td>\n",
       "      <td>9899</td>\n",
       "      <td>1</td>\n",
       "    </tr>\n",
       "    <tr>\n",
       "      <td>3</td>\n",
       "      <td>2012-05-31</td>\n",
       "      <td>10012</td>\n",
       "      <td>1</td>\n",
       "    </tr>\n",
       "    <tr>\n",
       "      <td>4</td>\n",
       "      <td>2012-06-01</td>\n",
       "      <td>1995</td>\n",
       "      <td>1</td>\n",
       "    </tr>\n",
       "  </tbody>\n",
       "</table>\n",
       "</div>"
      ],
      "text/plain": [
       "   time_stamp  user_id  visited\n",
       "0  2012-05-31     1693        1\n",
       "1  2012-05-31     3428        1\n",
       "2  2012-05-31     9899        1\n",
       "3  2012-05-31    10012        1\n",
       "4  2012-06-01     1995        1"
      ]
     },
     "execution_count": 114,
     "metadata": {},
     "output_type": "execute_result"
    }
   ],
   "source": [
    "# Reset the index to re-create time_stamp column\n",
    "daily_visitors = df.reset_index()\n",
    "daily_visitors.head()"
   ]
  },
  {
   "cell_type": "markdown",
   "metadata": {},
   "source": [
    "### Create user_length column"
   ]
  },
  {
   "cell_type": "code",
   "execution_count": 13,
   "metadata": {},
   "outputs": [],
   "source": [
    "# User length is the time frame from the first login to the last\n",
    "users['user_length'] = (users['last_session_creation_time'] - users['creation_time']).dt.total_seconds()"
   ]
  },
  {
   "cell_type": "markdown",
   "metadata": {},
   "source": [
    "### Merge to create final dataframe for analysis"
   ]
  },
  {
   "cell_type": "code",
   "execution_count": 14,
   "metadata": {},
   "outputs": [],
   "source": [
    "# final dataframe created by merging results from adopted_users\n",
    "user_final = users.merge(adopted_users, on = 'user_id', how = 'left')"
   ]
  },
  {
   "cell_type": "code",
   "execution_count": 15,
   "metadata": {},
   "outputs": [],
   "source": [
    "# some users have no engagements, they are all assigned as not adopted\n",
    "user_final = user_final.fillna(0)"
   ]
  },
  {
   "cell_type": "code",
   "execution_count": 16,
   "metadata": {
    "scrolled": true
   },
   "outputs": [
    {
     "name": "stdout",
     "output_type": "stream",
     "text": [
      "13.8% of users adopted\n"
     ]
    }
   ],
   "source": [
    "print(\"{}% of users adopted\".format(100*(sum(user_final.is_adopted)/len(user_final.is_adopted))))"
   ]
  },
  {
   "cell_type": "markdown",
   "metadata": {},
   "source": [
    ">The percent of actual adopted users is extremely low, if we model with accuracy here it could be misleading, predicting all not adopted would give an accuracy of 86%, for machine learning purposes later on we will keep this in mind. "
   ]
  },
  {
   "cell_type": "markdown",
   "metadata": {},
   "source": [
    "## Exploratory Data Analysis"
   ]
  },
  {
   "cell_type": "code",
   "execution_count": null,
   "metadata": {},
   "outputs": [],
   "source": [
    "def timeseries_frequency_plot(title, df, timeseries_col, y_col, dStart, dEnd, sample_by = 'D', xtick_freq = 'W'):\n",
    "    \n",
    "    '''This function will aggregate a dataframe by count given two columns, the datetime column and any column used to \n",
    "    determine frequency'''\n",
    "    \n",
    "    timeseries_vs_y = df[[timeseries_col, y_col]]\n",
    "    plot_df = timeseries_vs_y.set_index(timeseries_col).resample(sample_by)[y_col].sum()\n",
    "    df = plot_df[(dStart <= plot_df.index) & (plot_df.index <= dEnd)]\n",
    "\n",
    "    ax = plt.figure(figsize=(20, 6)).add_subplot(111)   \n",
    "    xticks = pd.date_range(start=dStart, end=dEnd, freq=xtick_freq)\n",
    "\n",
    "    df.plot(ax = ax, xticks=xticks)\n",
    "    \n",
    "    ax.set_title(title, fontsize=16)\n",
    "    ax.set_xticklabels([x.strftime('%h%d\\n%a\\n%-I%p\\n%Y') for x in xticks])\n",
    "    \n",
    "    ax.tick_params(axis='x', which='major', pad=15)\n",
    "    plt.setp(ax.xaxis.get_majorticklabels(), ha='right')\n",
    "    \n",
    "    plt.show()"
   ]
  },
  {
   "cell_type": "code",
   "execution_count": 17,
   "metadata": {},
   "outputs": [
    {
     "data": {
      "image/png": "[encoded data removed]",
      "text/plain": [
       "<Figure size 1440x432 with 1 Axes>"
      ]
     },
     "metadata": {
      "needs_background": "light"
     },
     "output_type": "display_data"
    }
   ],
   "source": [
    "dStart = user_final['creation_time'].describe()[4]\n",
    "dEnd = user_final['creation_time'].describe()[5]\n",
    "\n",
    "timeseries_frequency_plot('The number of adopted users by week over the given time period', \n",
    "                          user_final, \n",
    "                          'creation_time', \n",
    "                          'is_adopted', \n",
    "                          dStart, \n",
    "                          dEnd, \n",
    "                          sample_by = 'W', \n",
    "                          xtick_freq = 'M'\n",
    "                         )"
   ]
  },
  {
   "cell_type": "markdown",
   "metadata": {},
   "source": [
    "> There appears to be a sharp drop off in weekly adopted users over the last two months, this may be some evidence of correlation between the length of a users account and the likelyhood that they become adopted. "
   ]
  },
  {
   "cell_type": "code",
   "execution_count": null,
   "metadata": {},
   "outputs": [],
   "source": [
    "def get_pct_class_by_category(df, category, class_col):\n",
    "    '''This function will output the percentage of classified values for the \n",
    "        categories in a given categorical variable'''\n",
    "    \n",
    "    retained = df.groupby([category, 'is_adopted']).agg({'is_adopted': 'count'})\n",
    "    retained_pct = retained.groupby(level=0).apply(lambda x: 100*x/float(x.sum()))\n",
    "    \n",
    "    return retained_pct"
   ]
  },
  {
   "cell_type": "code",
   "execution_count": null,
   "metadata": {},
   "outputs": [],
   "source": [
    "def get_bar_labels(df, category, class_col):\n",
    "    \n",
    "    '''This function will output the percentage of classified values as a label for graphing'''\n",
    "    \n",
    "    pct_classified = get_pct_class_by_category(df, category, class_col)\n",
    "    \n",
    "    percentages = []\n",
    "    for i in range(0, len(pct_classified[class_col])):\n",
    "        if i % 2 != 0:\n",
    "            percentages.append(pct_classified[class_col].iloc[i])\n",
    "                \n",
    "    bar_labels = []\n",
    "    for i in range(len(percentages)):\n",
    "        bar_labels.append(\"{}% retained\".format(round(percentages[i], 1)))\n",
    "    \n",
    "    return bar_labels"
   ]
  },
  {
   "cell_type": "code",
   "execution_count": null,
   "metadata": {},
   "outputs": [],
   "source": [
    "def overlayed_labeled_bar_graph(df, category, class_col):\n",
    "    '''This function will plot a bar graph with percent labels above each bar indicating the percentage of\n",
    "        values in the labeled class'''\n",
    "    \n",
    "    bar_labels = get_bar_labels(df, category, class_col)\n",
    "    \n",
    "    y1 = df.groupby(category)[class_col].count()\n",
    "    y2 = df.groupby(category)[class_col].sum()\n",
    "    x = sorted(list(df[category].unique()))\n",
    "    \n",
    "    style = dict(size=15, color='grey')\n",
    "    ax = plt.figure(figsize=(15, 6)).add_subplot(111)\n",
    "    \n",
    "    plt.bar(x, y1)\n",
    "    plt.bar(x, y2)\n",
    "    \n",
    "    plt.title(\"{} adoption rates by category\".format(category), size=16)\n",
    "    \n",
    "    # specific for this project\n",
    "    plt.legend(['Not adopted', 'Adopted'])\n",
    "    \n",
    "    for i, title, label in zip(range(len(x)), x, bar_labels):\n",
    "        ax.text(title, y1[i], label, ha=\"center\", **style)"
   ]
  },
  {
   "cell_type": "code",
   "execution_count": null,
   "metadata": {
    "scrolled": false
   },
   "outputs": [],
   "source": [
    "# How do adoption rates compare across creation sources?\n",
    "overlayed_labeled_bar_graph(user_final, 'creation_source', 'is_adopted')"
   ]
  },
  {
   "cell_type": "markdown",
   "metadata": {},
   "source": [
    "> It looks like guest invite and google signup havw the highest adoption rates, but there is little difference across categories."
   ]
  },
  {
   "cell_type": "code",
   "execution_count": null,
   "metadata": {
    "scrolled": false
   },
   "outputs": [],
   "source": [
    "# How do adoption rates compare for those opted in to the mailing list?\n",
    "overlayed_labeled_bar_graph(user_final, 'opted_in_to_mailing_list', 'is_adopted')"
   ]
  },
  {
   "cell_type": "markdown",
   "metadata": {},
   "source": [
    "> There is virtually no difference in adoption between those who opted in to the mailing list and and those who did not. This may suggest an involuntary selection by the user. "
   ]
  },
  {
   "cell_type": "code",
   "execution_count": null,
   "metadata": {},
   "outputs": [],
   "source": [
    "# How do adoption rates compare for those enabled for marketing drip?\n",
    "overlayed_labeled_bar_graph(user_final, 'enabled_for_marketing_drip', 'is_adopted')"
   ]
  },
  {
   "cell_type": "markdown",
   "metadata": {},
   "source": [
    "> Similar to opting in to the mailing list, those enabled for marketing drip are just as likely to be adopted as those who are not. "
   ]
  },
  {
   "cell_type": "code",
   "execution_count": null,
   "metadata": {
    "scrolled": true
   },
   "outputs": [],
   "source": [
    "# How does the length of time a user is active affect the rate of adoption?\n",
    "ax = plt.figure(figsize=(20, 6))\n",
    "plt.hist(np.sqrt(user_final['user_length']), bins=40)\n",
    "plt.hist(np.sqrt(user_final[user_final['is_adopted'] == 1]['user_length']), bins=40)\n",
    "plt.show()"
   ]
  },
  {
   "cell_type": "markdown",
   "metadata": {},
   "source": [
    "> Taking the square root reveals a bit more of the structure here but an ECDF would do a better job of displaying the percent distribution for user_length."
   ]
  },
  {
   "cell_type": "code",
   "execution_count": null,
   "metadata": {},
   "outputs": [],
   "source": [
    "#define func to find ecdf of dataset\n",
    "def ecdf(data):\n",
    "    \"\"\"Compute ECDF for a one-dimensional array of measurements.\"\"\"\n",
    "    n = len(data)\n",
    "    x = np.sort(data)\n",
    "    y = np.arange(1, n+1) / n\n",
    "    return x, y"
   ]
  },
  {
   "cell_type": "code",
   "execution_count": null,
   "metadata": {
    "scrolled": true
   },
   "outputs": [],
   "source": [
    "retained = user_final.user_length.loc[user_final['is_adopted'] == 1]\n",
    "not_retained = user_final.user_length.loc[user_final['is_adopted'] == 0]\n",
    "\n",
    "#set fig size\n",
    "plt.figure(figsize=(15,5))\n",
    "\n",
    "x_active, y_active = ecdf(retained)\n",
    "x_inactive, y_inactive = ecdf(not_retained)\n",
    "\n",
    "plt.plot(x_active, y_active, marker='.', linestyle='none')\n",
    "plt.plot(x_inactive, y_inactive, marker='.', linestyle='none')\n",
    "plt.title('ECDF of user length', size = 15)\n",
    "plt.xlabel('Total user length (seconds)')\n",
    "plt.ylabel('ECDF')\n",
    "plt.legend(['adopted', 'not adopted'])\n",
    "plt.show()"
   ]
  },
  {
   "cell_type": "markdown",
   "metadata": {},
   "source": [
    "> It is clear from the plot that users who have a greater time between their first log in and their most recent are more likely to by adopted. "
   ]
  },
  {
   "cell_type": "markdown",
   "metadata": {},
   "source": [
    "## Feature Engineering"
   ]
  },
  {
   "cell_type": "code",
   "execution_count": null,
   "metadata": {},
   "outputs": [],
   "source": [
    "svm_df = user_final[['creation_source', 'invited_by_user_id', 'user_length', 'opted_in_to_mailing_list', \n",
    "                     'enabled_for_marketing_drip', 'is_adopted']]"
   ]
  },
  {
   "cell_type": "code",
   "execution_count": null,
   "metadata": {},
   "outputs": [],
   "source": [
    "from sklearn.preprocessing import LabelEncoder\n",
    "# For higher cardinality columns, employ label encoder \n",
    "enc_cols = ['invited_by_user_id', 'creation_source']\n",
    "transformed = []\n",
    "for col in enc_cols:\n",
    "    data_list = svm_df[col].to_list()\n",
    "    values = np.array(data_list)\n",
    "    # initialize labelencoder, fit and transform\n",
    "    label_encoder = LabelEncoder()\n",
    "    integer_encoded = label_encoder.fit_transform(values)\n",
    "    transformed.append(integer_encoded)\n",
    "    # Drop country column and replace with encoded \n",
    "    svm_df.drop(col, axis = 1, inplace = True)\n",
    "    svm_df[col] = integer_encoded"
   ]
  },
  {
   "cell_type": "code",
   "execution_count": null,
   "metadata": {},
   "outputs": [],
   "source": [
    "svm_df['log_user_length'] = np.log1p(svm_df.user_length)"
   ]
  },
  {
   "cell_type": "code",
   "execution_count": null,
   "metadata": {},
   "outputs": [],
   "source": [
    "svm_df = svm_df.drop('user_length', axis=1)"
   ]
  },
  {
   "cell_type": "code",
   "execution_count": null,
   "metadata": {},
   "outputs": [],
   "source": [
    "from scipy.stats import skew\n",
    "skew(svm_df['log_user_length'])"
   ]
  },
  {
   "cell_type": "markdown",
   "metadata": {},
   "source": [
    "## Machine Learning"
   ]
  },
  {
   "cell_type": "code",
   "execution_count": null,
   "metadata": {},
   "outputs": [],
   "source": [
    "from sklearn.model_selection import train_test_split\n",
    "# Separate input features (X) and target variable (y)\n",
    "y = svm_df.is_adopted\n",
    "X = svm_df.drop('is_adopted', axis=1)\n",
    "\n",
    "X_train, X_test, y_train, y_test = \\\n",
    "    train_test_split(X, y, test_size=0.33, random_state=3)"
   ]
  },
  {
   "cell_type": "code",
   "execution_count": null,
   "metadata": {},
   "outputs": [],
   "source": [
    "from sklearn.svm import SVC\n",
    "# Train model\n",
    "clf = SVC(kernel='linear', \n",
    "            class_weight='balanced', # penalize\n",
    "            probability=True,\n",
    "            cache_size=7000)\n",
    " \n",
    "clf.fit(X_train, y_train)"
   ]
  },
  {
   "cell_type": "code",
   "execution_count": null,
   "metadata": {},
   "outputs": [],
   "source": [
    "from sklearn.metrics import classification_report, confusion_matrix, f1_score\n",
    "\n",
    "# Predict on training set\n",
    "y_pred = clf.predict(X_test)\n",
    "\n",
    "print(confusion_matrix(y_test,y_pred))\n",
    "print(classification_report(y_test,y_pred))\n",
    "\n",
    "print(\"F1 Score: \")\n",
    "print(f1_score(y_test, y_pred))"
   ]
  },
  {
   "cell_type": "code",
   "execution_count": null,
   "metadata": {},
   "outputs": [],
   "source": [
    "from sklearn.metrics import roc_auc_score\n",
    "# What about AUROC?\n",
    "y_pred_prob = clf.predict_proba(X_test)[:,1]\n",
    "\n",
    "print(\"AUROC Score: \")\n",
    "print(roc_auc_score(y_test, y_pred_prob))"
   ]
  },
  {
   "cell_type": "code",
   "execution_count": null,
   "metadata": {},
   "outputs": [],
   "source": [
    "from sklearn.metrics import roc_auc_score\n",
    "from sklearn import preprocessing\n",
    "from sklearn.metrics import roc_curve\n",
    "\n",
    "# plotting the ROC curve\n",
    "fpr, tpr, thresholds = roc_curve(y_test, y_pred_prob)\n",
    "\n",
    "plt.plot(fpr, tpr, label = 'Random Forest')\n",
    "plt.xlabel('False Positive Rate')\n",
    "plt.ylabel('True Positive Rate')\n",
    "plt.title('SVM ROC Curve')\n",
    "plt.show()"
   ]
  },
  {
   "cell_type": "code",
   "execution_count": null,
   "metadata": {},
   "outputs": [],
   "source": [
    "def plot_coefficients(classifier, feature_names, top_features=5):\n",
    "    coef = classifier.coef_.ravel()\n",
    "    top_coefficients = np.argsort(coef)\n",
    "    # create plot\n",
    "    plt.figure(figsize=(10, 5))\n",
    "    colors = ['red' if c < 0 else 'blue' for c in coef[top_coefficients]]\n",
    "    plt.bar(np.arange(top_features), coef[top_coefficients], color=colors)\n",
    "    feature_names = np.array(feature_names)\n",
    "    plt.xticks(np.arange(0, top_features), feature_names[top_coefficients], rotation=60, ha='right')\n",
    "    plt.title('Feature Importance', size = 15)\n",
    "    plt.show()"
   ]
  },
  {
   "cell_type": "code",
   "execution_count": null,
   "metadata": {},
   "outputs": [],
   "source": [
    "feature_names = list(svm_df.columns.drop('is_adopted'))\n",
    "plot_coefficients(clf, feature_names)"
   ]
  },
  {
   "cell_type": "markdown",
   "metadata": {},
   "source": [
    "## Results\n",
    "\n",
    "The results here suggest that the user length and and being opted in to the mailing list are the most significant features. It seems that including information about those enabeled for marketing drip and the creation source actually worsens the model here.\n",
    "\n",
    "I do have a few reservations about these results however. It is natural to assume that a longer time frame for a user would open greater opportunity for them to become adopted. For those who had signed up towards the end of the documented period, the likelyhood that they became adopted reduced, as evidenced by the timeseries plot above. More work can be done here to limit the engagements to those who have been enrolled for at least a designated time period. \n",
    "\n",
    "The model results seemed promising. The accuracy for the SVM model was a 97% and the AUROC was close to perfect. The data here was highly imbalanced however, so the more appropriate evaluation metric here is the F1 score, our model gave an F1 score of approximately an 87%. "
   ]
  },
  {
   "cell_type": "code",
   "execution_count": null,
   "metadata": {},
   "outputs": [],
   "source": []
  }
 ],
 "metadata": {
  "kernelspec": {
   "display_name": "Python 3",
   "language": "python",
   "name": "python3"
  },
  "language_info": {
   "codemirror_mode": {
    "name": "ipython",
    "version": 3
   },
   "file_extension": ".py",
   "mimetype": "text/x-python",
   "name": "python",
   "nbconvert_exporter": "python",
   "pygments_lexer": "ipython3",
   "version": "3.7.4"
  }
 },
 "nbformat": 4,
 "nbformat_minor": 2
}
